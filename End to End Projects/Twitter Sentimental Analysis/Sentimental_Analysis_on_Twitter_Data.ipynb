{
 "cells": [
  {
   "cell_type": "code",
   "execution_count": 1,
   "metadata": {
    "colab": {},
    "colab_type": "code",
    "id": "mzzWjIwJ6PAg"
   },
   "outputs": [],
   "source": [
    "#Importing the necessary libraries\n",
    "import tweepy\n",
    "from textblob import TextBlob\n",
    "from wordcloud import WordCloud\n",
    "import pandas as pd \n",
    "import numpy as np \n",
    "import matplotlib.pyplot as plt"
   ]
  },
  {
   "cell_type": "code",
   "execution_count": 2,
   "metadata": {
    "colab": {},
    "colab_type": "code",
    "id": "5NZ2UlFtAAAY"
   },
   "outputs": [],
   "source": [
    "plt.style.use('fivethirtyeight')\n",
    "import re\n"
   ]
  },
  {
   "cell_type": "code",
   "execution_count": 3,
   "metadata": {
    "colab": {},
    "colab_type": "code",
    "id": "bT4aglzOAMjg"
   },
   "outputs": [],
   "source": [
    "#create an Authentication \n",
    "authenticate=tweepy.OAuthHandler('eRYN8HRoTXHs60jhcQVEQl5Yp','i4n6TdkC7aVqPlQCA4HaqwFeDl4fGK5OFQ6eCKqAL0xvO5NqTR')"
   ]
  },
  {
   "cell_type": "code",
   "execution_count": 4,
   "metadata": {
    "colab": {},
    "colab_type": "code",
    "id": "20e6dfLAAfTf"
   },
   "outputs": [],
   "source": [
    "#set access tokens \n",
    "authenticate.set_access_token('838298485090889728-QMiYZsCVPtPz7KcOqqxmPEjJhKMaYPo',\n",
    "                              'Br6YxCtORLA1hXgbCg5tSa4KRHsYvfHDCLPc7KYbQsZdO')"
   ]
  },
  {
   "cell_type": "code",
   "execution_count": 5,
   "metadata": {
    "colab": {},
    "colab_type": "code",
    "id": "TgLhUIzsAsIX"
   },
   "outputs": [],
   "source": [
    "#creating an API object by passing the authentication object\n",
    "api=tweepy.API(authenticate,wait_on_rate_limit=True)"
   ]
  },
  {
   "cell_type": "code",
   "execution_count": 6,
   "metadata": {
    "colab": {},
    "colab_type": "code",
    "id": "dtQnlsnXBE8V"
   },
   "outputs": [],
   "source": [
    "#fetching the recent 100 posts from bill gates's timeline\n",
    "posts=api.user_timeline(screen_name=\"BillGates\",count=1000,lan=\"en\",tweet_mode=\"extended\")"
   ]
  },
  {
   "cell_type": "code",
   "execution_count": 7,
   "metadata": {
    "colab": {
     "base_uri": "https://localhost:8080/",
     "height": 34
    },
    "colab_type": "code",
    "id": "ymdD1L3MB0-J",
    "outputId": "8aa4f1f5-64dd-43ab-f190-377a6a4c2013"
   },
   "outputs": [
    {
     "data": {
      "text/plain": [
       "200"
      ]
     },
     "execution_count": 7,
     "metadata": {
      "tags": []
     },
     "output_type": "execute_result"
    }
   ],
   "source": [
    "len(posts)"
   ]
  },
  {
   "cell_type": "code",
   "execution_count": 8,
   "metadata": {
    "colab": {
     "base_uri": "https://localhost:8080/",
     "height": 205
    },
    "colab_type": "code",
    "id": "ULeSRFGg6xHy",
    "outputId": "b9fbbd8f-3b4c-4549-9cec-f59b35f55f57"
   },
   "outputs": [
    {
     "name": "stdout",
     "output_type": "stream",
     "text": [
      "RT @UN: 6 months ago, Africa confirmed its first case of #COVID19. Since then, there have been 1 million cases, affecting every country on…\n",
      "\n",
      "If we’re going to address climate change, we need to find new ways to do things that don’t release greenhouse gases—including how we move around. https://t.co/ElpoZs2ZHG\n",
      "\n",
      "Today we move one step closer toward a world without polio. This is an incredible milestone that’s worth celebrating. It is also an important reminder of what can be accomplished when we work together toward a common goal. https://t.co/Exxks9jF4q\n",
      "\n",
      "RT @gatesfoundation: Thanks to the commitment of leaders from all 47 countries in the @WHOAFRO Region, history was made today: the entire A…\n",
      "\n",
      "Mosquito City is home to the world’s largest captive colony of mosquitoes. @IfakaraHealth Institute is doing fascinating research there about mosquito behaviors and finding ways to outsmart them. https://t.co/p3r11gMqdn\n",
      "\n"
     ]
    }
   ],
   "source": [
    "#printing first 5 tweets\n",
    "for tweet in posts[:5]:\n",
    "    print(tweet.full_text)\n",
    "    print()"
   ]
  },
  {
   "cell_type": "code",
   "execution_count": 9,
   "metadata": {
    "colab": {
     "base_uri": "https://localhost:8080/",
     "height": 195
    },
    "colab_type": "code",
    "id": "Ozj8Xg-aDT-t",
    "outputId": "2e2dad4a-252a-48bb-b229-a77f294a66bf"
   },
   "outputs": [
    {
     "data": {
      "text/html": [
       "<div>\n",
       "<style scoped>\n",
       "    .dataframe tbody tr th:only-of-type {\n",
       "        vertical-align: middle;\n",
       "    }\n",
       "\n",
       "    .dataframe tbody tr th {\n",
       "        vertical-align: top;\n",
       "    }\n",
       "\n",
       "    .dataframe thead th {\n",
       "        text-align: right;\n",
       "    }\n",
       "</style>\n",
       "<table border=\"1\" class=\"dataframe\">\n",
       "  <thead>\n",
       "    <tr style=\"text-align: right;\">\n",
       "      <th></th>\n",
       "      <th>Tweets</th>\n",
       "    </tr>\n",
       "  </thead>\n",
       "  <tbody>\n",
       "    <tr>\n",
       "      <th>0</th>\n",
       "      <td>RT @UN: 6 months ago, Africa confirmed its fir...</td>\n",
       "    </tr>\n",
       "    <tr>\n",
       "      <th>1</th>\n",
       "      <td>If we’re going to address climate change, we n...</td>\n",
       "    </tr>\n",
       "    <tr>\n",
       "      <th>2</th>\n",
       "      <td>Today we move one step closer toward a world w...</td>\n",
       "    </tr>\n",
       "    <tr>\n",
       "      <th>3</th>\n",
       "      <td>RT @gatesfoundation: Thanks to the commitment ...</td>\n",
       "    </tr>\n",
       "    <tr>\n",
       "      <th>4</th>\n",
       "      <td>Mosquito City is home to the world’s largest c...</td>\n",
       "    </tr>\n",
       "  </tbody>\n",
       "</table>\n",
       "</div>"
      ],
      "text/plain": [
       "                                              Tweets\n",
       "0  RT @UN: 6 months ago, Africa confirmed its fir...\n",
       "1  If we’re going to address climate change, we n...\n",
       "2  Today we move one step closer toward a world w...\n",
       "3  RT @gatesfoundation: Thanks to the commitment ...\n",
       "4  Mosquito City is home to the world’s largest c..."
      ]
     },
     "execution_count": 9,
     "metadata": {
      "tags": []
     },
     "output_type": "execute_result"
    }
   ],
   "source": [
    "#creating the dataframe from the tweets\n",
    "data=pd.DataFrame([tweet.full_text for tweet in posts],columns=['Tweets'])\n",
    "data.head()"
   ]
  },
  {
   "cell_type": "code",
   "execution_count": 14,
   "metadata": {
    "colab": {},
    "colab_type": "code",
    "id": "SiTd9NmYHUi_"
   },
   "outputs": [],
   "source": [
    "#clean the data\n",
    "\n",
    "#creating a function to remove some of the unwanted stuffs\n",
    "def clean_text(text):\n",
    "    text=re.sub('@[a-zA-Z0-9]+','',text)\n",
    "    text=re.sub('#[a-zA-Z0-9]+','',text)\n",
    "    text=re.sub('RT[\\s]+','',text)\n",
    "    text=re.sub('https?:\\/\\/\\S+','',text)\n",
    "    text=re.sub('[^a-zA-Z0-9 ]','',text)\n",
    "    return text"
   ]
  },
  {
   "cell_type": "code",
   "execution_count": 15,
   "metadata": {
    "colab": {
     "base_uri": "https://localhost:8080/",
     "height": 195
    },
    "colab_type": "code",
    "id": "i6-ElXIGJ75H",
    "outputId": "7cd49694-24df-4166-8436-b4eda16fee2d"
   },
   "outputs": [
    {
     "data": {
      "text/html": [
       "<div>\n",
       "<style scoped>\n",
       "    .dataframe tbody tr th:only-of-type {\n",
       "        vertical-align: middle;\n",
       "    }\n",
       "\n",
       "    .dataframe tbody tr th {\n",
       "        vertical-align: top;\n",
       "    }\n",
       "\n",
       "    .dataframe thead th {\n",
       "        text-align: right;\n",
       "    }\n",
       "</style>\n",
       "<table border=\"1\" class=\"dataframe\">\n",
       "  <thead>\n",
       "    <tr style=\"text-align: right;\">\n",
       "      <th></th>\n",
       "      <th>Tweets</th>\n",
       "    </tr>\n",
       "  </thead>\n",
       "  <tbody>\n",
       "    <tr>\n",
       "      <th>0</th>\n",
       "      <td>6 months ago Africa confirmed its first case ...</td>\n",
       "    </tr>\n",
       "    <tr>\n",
       "      <th>1</th>\n",
       "      <td>If were going to address climate change we nee...</td>\n",
       "    </tr>\n",
       "    <tr>\n",
       "      <th>2</th>\n",
       "      <td>Today we move one step closer toward a world w...</td>\n",
       "    </tr>\n",
       "    <tr>\n",
       "      <th>3</th>\n",
       "      <td>Thanks to the commitment of leaders from all ...</td>\n",
       "    </tr>\n",
       "    <tr>\n",
       "      <th>4</th>\n",
       "      <td>Mosquito City is home to the worlds largest ca...</td>\n",
       "    </tr>\n",
       "  </tbody>\n",
       "</table>\n",
       "</div>"
      ],
      "text/plain": [
       "                                              Tweets\n",
       "0   6 months ago Africa confirmed its first case ...\n",
       "1  If were going to address climate change we nee...\n",
       "2  Today we move one step closer toward a world w...\n",
       "3   Thanks to the commitment of leaders from all ...\n",
       "4  Mosquito City is home to the worlds largest ca..."
      ]
     },
     "execution_count": 15,
     "metadata": {
      "tags": []
     },
     "output_type": "execute_result"
    }
   ],
   "source": [
    "#applying the cleaning function to our dataframe \n",
    "data.Tweets=data.Tweets.apply(clean_text)\n",
    "data.head()"
   ]
  },
  {
   "cell_type": "code",
   "execution_count": 16,
   "metadata": {
    "colab": {
     "base_uri": "https://localhost:8080/",
     "height": 343
    },
    "colab_type": "code",
    "id": "D0uKXb5MHUq8",
    "outputId": "1ef6bc9f-ab12-48d9-8dd4-01bbf09649eb"
   },
   "outputs": [
    {
     "data": {
      "text/html": [
       "<div>\n",
       "<style scoped>\n",
       "    .dataframe tbody tr th:only-of-type {\n",
       "        vertical-align: middle;\n",
       "    }\n",
       "\n",
       "    .dataframe tbody tr th {\n",
       "        vertical-align: top;\n",
       "    }\n",
       "\n",
       "    .dataframe thead th {\n",
       "        text-align: right;\n",
       "    }\n",
       "</style>\n",
       "<table border=\"1\" class=\"dataframe\">\n",
       "  <thead>\n",
       "    <tr style=\"text-align: right;\">\n",
       "      <th></th>\n",
       "      <th>Tweets</th>\n",
       "    </tr>\n",
       "  </thead>\n",
       "  <tbody>\n",
       "    <tr>\n",
       "      <th>0</th>\n",
       "      <td>6 months ago Africa confirmed its first case ...</td>\n",
       "    </tr>\n",
       "    <tr>\n",
       "      <th>1</th>\n",
       "      <td>If were going to address climate change we nee...</td>\n",
       "    </tr>\n",
       "    <tr>\n",
       "      <th>2</th>\n",
       "      <td>Today we move one step closer toward a world w...</td>\n",
       "    </tr>\n",
       "    <tr>\n",
       "      <th>3</th>\n",
       "      <td>Thanks to the commitment of leaders from all ...</td>\n",
       "    </tr>\n",
       "    <tr>\n",
       "      <th>4</th>\n",
       "      <td>Mosquito City is home to the worlds largest ca...</td>\n",
       "    </tr>\n",
       "    <tr>\n",
       "      <th>5</th>\n",
       "      <td>Deaths from malaria have been cut by more than...</td>\n",
       "    </tr>\n",
       "    <tr>\n",
       "      <th>6</th>\n",
       "      <td>Vaccines prevent millions of deaths every yea...</td>\n",
       "    </tr>\n",
       "    <tr>\n",
       "      <th>7</th>\n",
       "      <td>Ridding the world of preventable treatable dis...</td>\n",
       "    </tr>\n",
       "    <tr>\n",
       "      <th>8</th>\n",
       "      <td>As a community health worker in Kenyas Homa B...</td>\n",
       "    </tr>\n",
       "    <tr>\n",
       "      <th>9</th>\n",
       "      <td>The progress the world has made against malari...</td>\n",
       "    </tr>\n",
       "  </tbody>\n",
       "</table>\n",
       "</div>"
      ],
      "text/plain": [
       "                                              Tweets\n",
       "0   6 months ago Africa confirmed its first case ...\n",
       "1  If were going to address climate change we nee...\n",
       "2  Today we move one step closer toward a world w...\n",
       "3   Thanks to the commitment of leaders from all ...\n",
       "4  Mosquito City is home to the worlds largest ca...\n",
       "5  Deaths from malaria have been cut by more than...\n",
       "6   Vaccines prevent millions of deaths every yea...\n",
       "7  Ridding the world of preventable treatable dis...\n",
       "8   As a community health worker in Kenyas Homa B...\n",
       "9  The progress the world has made against malari..."
      ]
     },
     "execution_count": 16,
     "metadata": {
      "tags": []
     },
     "output_type": "execute_result"
    }
   ],
   "source": [
    "data.head(10)"
   ]
  },
  {
   "cell_type": "code",
   "execution_count": 17,
   "metadata": {
    "colab": {
     "base_uri": "https://localhost:8080/",
     "height": 35
    },
    "colab_type": "code",
    "id": "7s_PzvkuHUsb",
    "outputId": "c600c892-3061-4705-dcbe-7096d5080677"
   },
   "outputs": [
    {
     "data": {
      "application/vnd.google.colaboratory.intrinsic+json": {
       "type": "string"
      },
      "text/plain": [
       "' 6 months ago Africa confirmed its first case of  Since then there have been 1 million cases affecting every country on'"
      ]
     },
     "execution_count": 17,
     "metadata": {
      "tags": []
     },
     "output_type": "execute_result"
    }
   ],
   "source": [
    "data.Tweets.iloc[0]"
   ]
  },
  {
   "cell_type": "code",
   "execution_count": 13,
   "metadata": {
    "colab": {
     "base_uri": "https://localhost:8080/",
     "height": 34
    },
    "colab_type": "code",
    "id": "itrUpVcwHUty",
    "outputId": "2347c1f1-1736-40ce-ba56-c94d564607ad"
   },
   "outputs": [
    {
     "data": {
      "text/plain": [
       "(200, 1)"
      ]
     },
     "execution_count": 13,
     "metadata": {
      "tags": []
     },
     "output_type": "execute_result"
    }
   ],
   "source": [
    "data.shape"
   ]
  },
  {
   "cell_type": "code",
   "execution_count": 26,
   "metadata": {
    "colab": {},
    "colab_type": "code",
    "id": "cNk_SnYaHUvL"
   },
   "outputs": [],
   "source": [
    "#creating functions for Subjectivity and Polarity\n",
    "\n",
    "def get_subjectivity(text):\n",
    "    obj=TextBlob(text)\n",
    "    return obj.sentiment.subjectivity\n",
    "\n",
    "def get_polarity(text):\n",
    "    obj=TextBlob(text)\n",
    "    return obj.sentiment.polarity"
   ]
  },
  {
   "cell_type": "code",
   "execution_count": 27,
   "metadata": {
    "colab": {},
    "colab_type": "code",
    "id": "2htE2kSgQgRG"
   },
   "outputs": [],
   "source": [
    "data['Subjectivity']=data['Tweets'].apply(get_subjectivity)\n",
    "data['Polarity']=data['Tweets'].apply(get_polarity)"
   ]
  },
  {
   "cell_type": "code",
   "execution_count": 28,
   "metadata": {
    "colab": {
     "base_uri": "https://localhost:8080/",
     "height": 343
    },
    "colab_type": "code",
    "id": "-LvHDFsySDwd",
    "outputId": "6fe810ab-dc8b-4e09-80e7-fbaa8c5ec035"
   },
   "outputs": [
    {
     "data": {
      "text/html": [
       "<div>\n",
       "<style scoped>\n",
       "    .dataframe tbody tr th:only-of-type {\n",
       "        vertical-align: middle;\n",
       "    }\n",
       "\n",
       "    .dataframe tbody tr th {\n",
       "        vertical-align: top;\n",
       "    }\n",
       "\n",
       "    .dataframe thead th {\n",
       "        text-align: right;\n",
       "    }\n",
       "</style>\n",
       "<table border=\"1\" class=\"dataframe\">\n",
       "  <thead>\n",
       "    <tr style=\"text-align: right;\">\n",
       "      <th></th>\n",
       "      <th>Tweets</th>\n",
       "      <th>Subjectivity</th>\n",
       "      <th>Polarity</th>\n",
       "    </tr>\n",
       "  </thead>\n",
       "  <tbody>\n",
       "    <tr>\n",
       "      <th>0</th>\n",
       "      <td>6 months ago Africa confirmed its first case ...</td>\n",
       "      <td>0.666667</td>\n",
       "      <td>0.325000</td>\n",
       "    </tr>\n",
       "    <tr>\n",
       "      <th>1</th>\n",
       "      <td>If were going to address climate change we nee...</td>\n",
       "      <td>0.454545</td>\n",
       "      <td>0.136364</td>\n",
       "    </tr>\n",
       "    <tr>\n",
       "      <th>2</th>\n",
       "      <td>Today we move one step closer toward a world w...</td>\n",
       "      <td>0.600000</td>\n",
       "      <td>0.300000</td>\n",
       "    </tr>\n",
       "    <tr>\n",
       "      <th>3</th>\n",
       "      <td>Thanks to the commitment of leaders from all ...</td>\n",
       "      <td>0.412500</td>\n",
       "      <td>0.100000</td>\n",
       "    </tr>\n",
       "    <tr>\n",
       "      <th>4</th>\n",
       "      <td>Mosquito City is home to the worlds largest ca...</td>\n",
       "      <td>0.725000</td>\n",
       "      <td>0.450000</td>\n",
       "    </tr>\n",
       "    <tr>\n",
       "      <th>5</th>\n",
       "      <td>Deaths from malaria have been cut by more than...</td>\n",
       "      <td>0.250000</td>\n",
       "      <td>0.125000</td>\n",
       "    </tr>\n",
       "    <tr>\n",
       "      <th>6</th>\n",
       "      <td>Vaccines prevent millions of deaths every yea...</td>\n",
       "      <td>0.125000</td>\n",
       "      <td>0.000000</td>\n",
       "    </tr>\n",
       "    <tr>\n",
       "      <th>7</th>\n",
       "      <td>Ridding the world of preventable treatable dis...</td>\n",
       "      <td>0.394886</td>\n",
       "      <td>0.284091</td>\n",
       "    </tr>\n",
       "    <tr>\n",
       "      <th>8</th>\n",
       "      <td>As a community health worker in Kenyas Homa B...</td>\n",
       "      <td>0.000000</td>\n",
       "      <td>0.000000</td>\n",
       "    </tr>\n",
       "    <tr>\n",
       "      <th>9</th>\n",
       "      <td>The progress the world has made against malari...</td>\n",
       "      <td>0.575000</td>\n",
       "      <td>0.325000</td>\n",
       "    </tr>\n",
       "  </tbody>\n",
       "</table>\n",
       "</div>"
      ],
      "text/plain": [
       "                                              Tweets  Subjectivity  Polarity\n",
       "0   6 months ago Africa confirmed its first case ...      0.666667  0.325000\n",
       "1  If were going to address climate change we nee...      0.454545  0.136364\n",
       "2  Today we move one step closer toward a world w...      0.600000  0.300000\n",
       "3   Thanks to the commitment of leaders from all ...      0.412500  0.100000\n",
       "4  Mosquito City is home to the worlds largest ca...      0.725000  0.450000\n",
       "5  Deaths from malaria have been cut by more than...      0.250000  0.125000\n",
       "6   Vaccines prevent millions of deaths every yea...      0.125000  0.000000\n",
       "7  Ridding the world of preventable treatable dis...      0.394886  0.284091\n",
       "8   As a community health worker in Kenyas Homa B...      0.000000  0.000000\n",
       "9  The progress the world has made against malari...      0.575000  0.325000"
      ]
     },
     "execution_count": 28,
     "metadata": {
      "tags": []
     },
     "output_type": "execute_result"
    }
   ],
   "source": [
    "data.head(10)"
   ]
  },
  {
   "cell_type": "code",
   "execution_count": 32,
   "metadata": {
    "colab": {},
    "colab_type": "code",
    "id": "XCvgcblMHUwn"
   },
   "outputs": [],
   "source": [
    "#creating a new column for defining whether the tweet is positive or negative or neutral based on polarity\n",
    "\n",
    "#positive polarity stands for positive sentiment negative polarity for negative and 0 stands for neutral sentiment\n",
    "def get_sentiement(polarity):\n",
    "    if polarity>0:\n",
    "        return 'Positive'\n",
    "    elif polarity<0:\n",
    "        return 'Negative'\n",
    "    else :\n",
    "        return 'Neutral'"
   ]
  },
  {
   "cell_type": "code",
   "execution_count": 33,
   "metadata": {
    "colab": {},
    "colab_type": "code",
    "id": "dK7uSdd6Txj7"
   },
   "outputs": [],
   "source": [
    "data['Sentiment']=data['Polarity'].apply(get_sentiement)"
   ]
  },
  {
   "cell_type": "code",
   "execution_count": 35,
   "metadata": {
    "colab": {
     "base_uri": "https://localhost:8080/",
     "height": 343
    },
    "colab_type": "code",
    "id": "8phH2aEbT9jW",
    "outputId": "6ac19f9a-9b11-4280-9b65-d26173fd5840"
   },
   "outputs": [
    {
     "data": {
      "text/html": [
       "<div>\n",
       "<style scoped>\n",
       "    .dataframe tbody tr th:only-of-type {\n",
       "        vertical-align: middle;\n",
       "    }\n",
       "\n",
       "    .dataframe tbody tr th {\n",
       "        vertical-align: top;\n",
       "    }\n",
       "\n",
       "    .dataframe thead th {\n",
       "        text-align: right;\n",
       "    }\n",
       "</style>\n",
       "<table border=\"1\" class=\"dataframe\">\n",
       "  <thead>\n",
       "    <tr style=\"text-align: right;\">\n",
       "      <th></th>\n",
       "      <th>Tweets</th>\n",
       "      <th>Subjectivity</th>\n",
       "      <th>Polarity</th>\n",
       "      <th>Sentiment</th>\n",
       "    </tr>\n",
       "  </thead>\n",
       "  <tbody>\n",
       "    <tr>\n",
       "      <th>0</th>\n",
       "      <td>6 months ago Africa confirmed its first case ...</td>\n",
       "      <td>0.666667</td>\n",
       "      <td>0.325000</td>\n",
       "      <td>Positive</td>\n",
       "    </tr>\n",
       "    <tr>\n",
       "      <th>1</th>\n",
       "      <td>If were going to address climate change we nee...</td>\n",
       "      <td>0.454545</td>\n",
       "      <td>0.136364</td>\n",
       "      <td>Positive</td>\n",
       "    </tr>\n",
       "    <tr>\n",
       "      <th>2</th>\n",
       "      <td>Today we move one step closer toward a world w...</td>\n",
       "      <td>0.600000</td>\n",
       "      <td>0.300000</td>\n",
       "      <td>Positive</td>\n",
       "    </tr>\n",
       "    <tr>\n",
       "      <th>3</th>\n",
       "      <td>Thanks to the commitment of leaders from all ...</td>\n",
       "      <td>0.412500</td>\n",
       "      <td>0.100000</td>\n",
       "      <td>Positive</td>\n",
       "    </tr>\n",
       "    <tr>\n",
       "      <th>4</th>\n",
       "      <td>Mosquito City is home to the worlds largest ca...</td>\n",
       "      <td>0.725000</td>\n",
       "      <td>0.450000</td>\n",
       "      <td>Positive</td>\n",
       "    </tr>\n",
       "    <tr>\n",
       "      <th>5</th>\n",
       "      <td>Deaths from malaria have been cut by more than...</td>\n",
       "      <td>0.250000</td>\n",
       "      <td>0.125000</td>\n",
       "      <td>Positive</td>\n",
       "    </tr>\n",
       "    <tr>\n",
       "      <th>6</th>\n",
       "      <td>Vaccines prevent millions of deaths every yea...</td>\n",
       "      <td>0.125000</td>\n",
       "      <td>0.000000</td>\n",
       "      <td>Neutral</td>\n",
       "    </tr>\n",
       "    <tr>\n",
       "      <th>7</th>\n",
       "      <td>Ridding the world of preventable treatable dis...</td>\n",
       "      <td>0.394886</td>\n",
       "      <td>0.284091</td>\n",
       "      <td>Positive</td>\n",
       "    </tr>\n",
       "    <tr>\n",
       "      <th>8</th>\n",
       "      <td>As a community health worker in Kenyas Homa B...</td>\n",
       "      <td>0.000000</td>\n",
       "      <td>0.000000</td>\n",
       "      <td>Neutral</td>\n",
       "    </tr>\n",
       "    <tr>\n",
       "      <th>9</th>\n",
       "      <td>The progress the world has made against malari...</td>\n",
       "      <td>0.575000</td>\n",
       "      <td>0.325000</td>\n",
       "      <td>Positive</td>\n",
       "    </tr>\n",
       "  </tbody>\n",
       "</table>\n",
       "</div>"
      ],
      "text/plain": [
       "                                              Tweets  ...  Sentiment\n",
       "0   6 months ago Africa confirmed its first case ...  ...   Positive\n",
       "1  If were going to address climate change we nee...  ...   Positive\n",
       "2  Today we move one step closer toward a world w...  ...   Positive\n",
       "3   Thanks to the commitment of leaders from all ...  ...   Positive\n",
       "4  Mosquito City is home to the worlds largest ca...  ...   Positive\n",
       "5  Deaths from malaria have been cut by more than...  ...   Positive\n",
       "6   Vaccines prevent millions of deaths every yea...  ...    Neutral\n",
       "7  Ridding the world of preventable treatable dis...  ...   Positive\n",
       "8   As a community health worker in Kenyas Homa B...  ...    Neutral\n",
       "9  The progress the world has made against malari...  ...   Positive\n",
       "\n",
       "[10 rows x 4 columns]"
      ]
     },
     "execution_count": 35,
     "metadata": {
      "tags": []
     },
     "output_type": "execute_result"
    }
   ],
   "source": [
    "data.head(10)"
   ]
  },
  {
   "cell_type": "code",
   "execution_count": null,
   "metadata": {
    "colab": {},
    "colab_type": "code",
    "id": "OmjI_t3ET-4Z"
   },
   "outputs": [],
   "source": []
  },
  {
   "cell_type": "code",
   "execution_count": null,
   "metadata": {
    "colab": {},
    "colab_type": "code",
    "id": "tz70DgnvShTY"
   },
   "outputs": [],
   "source": []
  },
  {
   "cell_type": "code",
   "execution_count": null,
   "metadata": {
    "colab": {},
    "colab_type": "code",
    "id": "vtymyuitHUyA"
   },
   "outputs": [],
   "source": []
  },
  {
   "cell_type": "code",
   "execution_count": null,
   "metadata": {
    "colab": {},
    "colab_type": "code",
    "id": "y6LJGpzyHUzQ"
   },
   "outputs": [],
   "source": []
  },
  {
   "cell_type": "code",
   "execution_count": null,
   "metadata": {
    "colab": {},
    "colab_type": "code",
    "id": "NFCLH6uHHU0k"
   },
   "outputs": [],
   "source": []
  },
  {
   "cell_type": "code",
   "execution_count": null,
   "metadata": {
    "colab": {},
    "colab_type": "code",
    "id": "tczkY8q_HU1_"
   },
   "outputs": [],
   "source": []
  },
  {
   "cell_type": "code",
   "execution_count": null,
   "metadata": {
    "colab": {},
    "colab_type": "code",
    "id": "99bGDNkZHU3X"
   },
   "outputs": [],
   "source": []
  },
  {
   "cell_type": "code",
   "execution_count": null,
   "metadata": {
    "colab": {},
    "colab_type": "code",
    "id": "pTw8uBREHU4r"
   },
   "outputs": [],
   "source": []
  },
  {
   "cell_type": "code",
   "execution_count": null,
   "metadata": {
    "colab": {},
    "colab_type": "code",
    "id": "dSAIBduEHU6D"
   },
   "outputs": [],
   "source": []
  },
  {
   "cell_type": "code",
   "execution_count": null,
   "metadata": {
    "colab": {},
    "colab_type": "code",
    "id": "MdHYJ7YXHU7a"
   },
   "outputs": [],
   "source": []
  }
 ],
 "metadata": {
  "accelerator": "GPU",
  "colab": {
   "name": "Sentimental Analysis on Twitter Data.ipynb",
   "provenance": []
  },
  "kernelspec": {
   "display_name": "Python 3",
   "language": "python",
   "name": "python3"
  },
  "language_info": {
   "codemirror_mode": {
    "name": "ipython",
    "version": 3
   },
   "file_extension": ".py",
   "mimetype": "text/x-python",
   "name": "python",
   "nbconvert_exporter": "python",
   "pygments_lexer": "ipython3",
   "version": "3.7.4"
  }
 },
 "nbformat": 4,
 "nbformat_minor": 1
}
