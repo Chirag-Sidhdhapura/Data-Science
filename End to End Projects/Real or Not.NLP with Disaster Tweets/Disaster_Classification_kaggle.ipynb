{
  "nbformat": 4,
  "nbformat_minor": 0,
  "metadata": {
    "colab": {
      "name": "Disaster_Classification_kaggle.ipynb",
      "provenance": [],
      "collapsed_sections": []
    },
    "kernelspec": {
      "name": "python3",
      "display_name": "Python 3"
    },
    "accelerator": "GPU"
  },
  "cells": [
    {
      "cell_type": "code",
      "metadata": {
        "id": "y7oz_BScoUeo",
        "colab_type": "code",
        "colab": {
          "base_uri": "https://localhost:8080/",
          "height": 134
        },
        "outputId": "d535d7fa-df0a-428c-aa31-5d1ed93ddef9"
      },
      "source": [
        "#Import necessary libraries\n",
        "import numpy as np\n",
        "import pandas as pd\n",
        "import nltk\n",
        "#load data\n",
        "train_data=pd.read_csv(\"train.csv\")\n",
        "test_data=pd.read_csv(\"test.csv\")\n",
        "nltk.download('punkt')\n",
        "nltk.download('stopwords')\n",
        "nltk.download('wordnet')"
      ],
      "execution_count": 1,
      "outputs": [
        {
          "output_type": "stream",
          "text": [
            "[nltk_data] Downloading package punkt to /root/nltk_data...\n",
            "[nltk_data]   Unzipping tokenizers/punkt.zip.\n",
            "[nltk_data] Downloading package stopwords to /root/nltk_data...\n",
            "[nltk_data]   Unzipping corpora/stopwords.zip.\n",
            "[nltk_data] Downloading package wordnet to /root/nltk_data...\n",
            "[nltk_data]   Unzipping corpora/wordnet.zip.\n"
          ],
          "name": "stdout"
        },
        {
          "output_type": "execute_result",
          "data": {
            "text/plain": [
              "True"
            ]
          },
          "metadata": {
            "tags": []
          },
          "execution_count": 1
        }
      ]
    },
    {
      "cell_type": "code",
      "metadata": {
        "id": "MWixJjbdovN5",
        "colab_type": "code",
        "colab": {
          "base_uri": "https://localhost:8080/",
          "height": 34
        },
        "outputId": "82cff6d3-ce2e-4f5a-b3ff-97bccc81f34c"
      },
      "source": [
        "#Check shape of data\n",
        "train_data.shape,test_data.shape"
      ],
      "execution_count": 2,
      "outputs": [
        {
          "output_type": "execute_result",
          "data": {
            "text/plain": [
              "((7613, 5), (3263, 4))"
            ]
          },
          "metadata": {
            "tags": []
          },
          "execution_count": 2
        }
      ]
    },
    {
      "cell_type": "code",
      "metadata": {
        "id": "MWm-sXxyo0H3",
        "colab_type": "code",
        "colab": {}
      },
      "source": [
        "#independent variable\n",
        "train_text=train_data.text\n",
        "test_text=test_data.text"
      ],
      "execution_count": 3,
      "outputs": []
    },
    {
      "cell_type": "code",
      "metadata": {
        "id": "SnNU3068ovV3",
        "colab_type": "code",
        "colab": {}
      },
      "source": [
        "#dependent variable \n",
        "y=train_data.target"
      ],
      "execution_count": 4,
      "outputs": []
    },
    {
      "cell_type": "code",
      "metadata": {
        "id": "SV5UWgX5pV4-",
        "colab_type": "code",
        "colab": {}
      },
      "source": [
        "import re"
      ],
      "execution_count": 5,
      "outputs": []
    },
    {
      "cell_type": "code",
      "metadata": {
        "id": "k31O3T2OpONr",
        "colab_type": "code",
        "colab": {}
      },
      "source": [
        "#function for cleaning the text remove hashtags,punctuation and other unwanted signs\n",
        "def clean_text(text):\n",
        "    text=text.lower()\n",
        "    text=re.sub('#','',text)\n",
        "    text=re.sub('[^a-zA-Z ]','',text)\n",
        "    return text"
      ],
      "execution_count": 6,
      "outputs": []
    },
    {
      "cell_type": "code",
      "metadata": {
        "id": "f8NoV4atphZ8",
        "colab_type": "code",
        "colab": {
          "base_uri": "https://localhost:8080/",
          "height": 118
        },
        "outputId": "de93d1c5-157d-43c1-bc6d-56e39601f853"
      },
      "source": [
        "train_text.head()"
      ],
      "execution_count": 7,
      "outputs": [
        {
          "output_type": "execute_result",
          "data": {
            "text/plain": [
              "0    Our Deeds are the Reason of this #earthquake M...\n",
              "1               Forest fire near La Ronge Sask. Canada\n",
              "2    All residents asked to 'shelter in place' are ...\n",
              "3    13,000 people receive #wildfires evacuation or...\n",
              "4    Just got sent this photo from Ruby #Alaska as ...\n",
              "Name: text, dtype: object"
            ]
          },
          "metadata": {
            "tags": []
          },
          "execution_count": 7
        }
      ]
    },
    {
      "cell_type": "code",
      "metadata": {
        "id": "NwJIm26YovWt",
        "colab_type": "code",
        "colab": {}
      },
      "source": [
        "#clean text\n",
        "train_text=train_text.apply(clean_text)\n",
        "test_text=test_text.apply(clean_text)"
      ],
      "execution_count": 8,
      "outputs": []
    },
    {
      "cell_type": "code",
      "metadata": {
        "id": "raEG1CNWpqxY",
        "colab_type": "code",
        "colab": {
          "base_uri": "https://localhost:8080/",
          "height": 118
        },
        "outputId": "9484604d-6c33-4d0e-fe07-aabd941f538a"
      },
      "source": [
        "train_text.head()"
      ],
      "execution_count": 9,
      "outputs": [
        {
          "output_type": "execute_result",
          "data": {
            "text/plain": [
              "0    our deeds are the reason of this earthquake ma...\n",
              "1                forest fire near la ronge sask canada\n",
              "2    all residents asked to shelter in place are be...\n",
              "3     people receive wildfires evacuation orders in...\n",
              "4    just got sent this photo from ruby alaska as s...\n",
              "Name: text, dtype: object"
            ]
          },
          "metadata": {
            "tags": []
          },
          "execution_count": 9
        }
      ]
    },
    {
      "cell_type": "code",
      "metadata": {
        "id": "M49CRWkSp-Cm",
        "colab_type": "code",
        "colab": {}
      },
      "source": [
        "#lemmatize and remove stopwords from text\n",
        "from nltk.stem import WordNetLemmatizer\n",
        "from nltk.corpus import stopwords\n",
        "lemmatizer=WordNetLemmatizer()"
      ],
      "execution_count": 10,
      "outputs": []
    },
    {
      "cell_type": "code",
      "metadata": {
        "id": "hOuJtoUAovYH",
        "colab_type": "code",
        "colab": {}
      },
      "source": [
        "train_sequence=[]\n",
        "for i in range(len(train_text)):\n",
        "    words=nltk.word_tokenize(train_text.iloc[i])\n",
        "    words=[lemmatizer.lemmatize(word) for word in words if word not in set(stopwords.words('english'))]\n",
        "    sent=' '.join(words)\n",
        "    train_sequence.append(sent)"
      ],
      "execution_count": 11,
      "outputs": []
    },
    {
      "cell_type": "code",
      "metadata": {
        "id": "mZaOSRv8qY85",
        "colab_type": "code",
        "colab": {
          "base_uri": "https://localhost:8080/",
          "height": 34
        },
        "outputId": "e2a463d4-8696-4730-b5d4-81c3acac965f"
      },
      "source": [
        "len(train_sequence)"
      ],
      "execution_count": 12,
      "outputs": [
        {
          "output_type": "execute_result",
          "data": {
            "text/plain": [
              "7613"
            ]
          },
          "metadata": {
            "tags": []
          },
          "execution_count": 12
        }
      ]
    },
    {
      "cell_type": "code",
      "metadata": {
        "id": "93nQeMroqfvB",
        "colab_type": "code",
        "colab": {
          "base_uri": "https://localhost:8080/",
          "height": 35
        },
        "outputId": "46040c87-c533-400f-8b28-474a7f716f40"
      },
      "source": [
        "train_sequence[0]"
      ],
      "execution_count": 13,
      "outputs": [
        {
          "output_type": "execute_result",
          "data": {
            "application/vnd.google.colaboratory.intrinsic+json": {
              "type": "string"
            },
            "text/plain": [
              "'deed reason earthquake may allah forgive u'"
            ]
          },
          "metadata": {
            "tags": []
          },
          "execution_count": 13
        }
      ]
    },
    {
      "cell_type": "code",
      "metadata": {
        "id": "JHcHFNZMovZb",
        "colab_type": "code",
        "colab": {}
      },
      "source": [
        "test_sequence=[]\n",
        "for i in range(len(test_text)):\n",
        "    words=nltk.word_tokenize(test_text.iloc[i])\n",
        "    words=[lemmatizer.lemmatize(word) for word in words if word not in set(stopwords.words('english'))]\n",
        "    sent=' '.join(words)\n",
        "    test_sequence.append(sent)"
      ],
      "execution_count": 14,
      "outputs": []
    },
    {
      "cell_type": "code",
      "metadata": {
        "id": "wkeqzMfQovay",
        "colab_type": "code",
        "colab": {
          "base_uri": "https://localhost:8080/",
          "height": 34
        },
        "outputId": "ea46202e-84c6-4a44-e10d-f081e5eb5fb3"
      },
      "source": [
        "len(test_sequence)"
      ],
      "execution_count": 15,
      "outputs": [
        {
          "output_type": "execute_result",
          "data": {
            "text/plain": [
              "3263"
            ]
          },
          "metadata": {
            "tags": []
          },
          "execution_count": 15
        }
      ]
    },
    {
      "cell_type": "code",
      "metadata": {
        "id": "dpNX-3Ox7h--",
        "colab_type": "code",
        "colab": {}
      },
      "source": [
        "from sklearn.feature_extraction.text import TfidfVectorizer"
      ],
      "execution_count": 16,
      "outputs": []
    },
    {
      "cell_type": "code",
      "metadata": {
        "id": "DYDC4eHTM4r4",
        "colab_type": "code",
        "colab": {}
      },
      "source": [
        "#convert text to sequence with the help of tfidf technique\n",
        "tfidf=TfidfVectorizer(min_df=2,ngram_range=(1,3),max_features=10000)"
      ],
      "execution_count": 17,
      "outputs": []
    },
    {
      "cell_type": "code",
      "metadata": {
        "id": "-lkx8QvPNLV0",
        "colab_type": "code",
        "colab": {}
      },
      "source": [
        "vectorized_train=tfidf.fit_transform(train_sequence)"
      ],
      "execution_count": 18,
      "outputs": []
    },
    {
      "cell_type": "code",
      "metadata": {
        "id": "F0IXMMkKNTw_",
        "colab_type": "code",
        "colab": {
          "base_uri": "https://localhost:8080/",
          "height": 34
        },
        "outputId": "873ec4d9-4cde-4080-bd62-4ebb1dd5cf8d"
      },
      "source": [
        "vectorized_train.shape"
      ],
      "execution_count": 19,
      "outputs": [
        {
          "output_type": "execute_result",
          "data": {
            "text/plain": [
              "(7613, 10000)"
            ]
          },
          "metadata": {
            "tags": []
          },
          "execution_count": 19
        }
      ]
    },
    {
      "cell_type": "code",
      "metadata": {
        "id": "avtZSfXOM-13",
        "colab_type": "code",
        "colab": {}
      },
      "source": [
        "vectorized_test=tfidf.transform(test_sequence)"
      ],
      "execution_count": 20,
      "outputs": []
    },
    {
      "cell_type": "code",
      "metadata": {
        "id": "m13fd91ANnHL",
        "colab_type": "code",
        "colab": {
          "base_uri": "https://localhost:8080/",
          "height": 34
        },
        "outputId": "3deda591-02f4-4fea-c050-c26a8b41b894"
      },
      "source": [
        "vectorized_test.shape"
      ],
      "execution_count": 21,
      "outputs": [
        {
          "output_type": "execute_result",
          "data": {
            "text/plain": [
              "(3263, 10000)"
            ]
          },
          "metadata": {
            "tags": []
          },
          "execution_count": 21
        }
      ]
    },
    {
      "cell_type": "code",
      "metadata": {
        "id": "AYjpVwj8Zo63",
        "colab_type": "code",
        "colab": {}
      },
      "source": [
        "#convert sequences into array\n",
        "vectorized_train=vectorized_train.toarray()\n",
        "vectorized_test=vectorized_test.toarray()"
      ],
      "execution_count": 22,
      "outputs": []
    },
    {
      "cell_type": "code",
      "metadata": {
        "id": "sCvoC8yLi5ke",
        "colab_type": "code",
        "colab": {
          "base_uri": "https://localhost:8080/",
          "height": 34
        },
        "outputId": "1685da28-cf8b-4843-9e59-a732231b9c75"
      },
      "source": [
        "vectorized_train[0]"
      ],
      "execution_count": 23,
      "outputs": [
        {
          "output_type": "execute_result",
          "data": {
            "text/plain": [
              "array([0., 0., 0., ..., 0., 0., 0.])"
            ]
          },
          "metadata": {
            "tags": []
          },
          "execution_count": 23
        }
      ]
    },
    {
      "cell_type": "code",
      "metadata": {
        "id": "OF2TFfsmNo7L",
        "colab_type": "code",
        "colab": {}
      },
      "source": [
        "from sklearn.linear_model import LogisticRegression"
      ],
      "execution_count": 24,
      "outputs": []
    },
    {
      "cell_type": "code",
      "metadata": {
        "id": "a0eIxADpOBcT",
        "colab_type": "code",
        "colab": {}
      },
      "source": [
        "from sklearn.model_selection import train_test_split"
      ],
      "execution_count": 25,
      "outputs": []
    },
    {
      "cell_type": "code",
      "metadata": {
        "id": "bIfOMH7aOFMz",
        "colab_type": "code",
        "colab": {}
      },
      "source": [
        "#split out train and validation data\n",
        "X_train, X_test, y_train, y_test = train_test_split(vectorized_train,y,test_size=0.2,random_state=0)"
      ],
      "execution_count": 26,
      "outputs": []
    },
    {
      "cell_type": "code",
      "metadata": {
        "id": "AEOfAX1yMbm0",
        "colab_type": "code",
        "colab": {}
      },
      "source": [
        "#Logistic Regression for classification\n",
        "classifier=LogisticRegression(C=2)"
      ],
      "execution_count": 27,
      "outputs": []
    },
    {
      "cell_type": "code",
      "metadata": {
        "id": "kwcVmkjDOSlJ",
        "colab_type": "code",
        "colab": {
          "base_uri": "https://localhost:8080/",
          "height": 101
        },
        "outputId": "3849d5f2-768d-4cdf-84aa-4105a4d0e88f"
      },
      "source": [
        "#fit the training data to our Logistic Regression model\n",
        "classifier.fit(X_train,y_train)"
      ],
      "execution_count": 28,
      "outputs": [
        {
          "output_type": "execute_result",
          "data": {
            "text/plain": [
              "LogisticRegression(C=2, class_weight=None, dual=False, fit_intercept=True,\n",
              "                   intercept_scaling=1, l1_ratio=None, max_iter=100,\n",
              "                   multi_class='auto', n_jobs=None, penalty='l2',\n",
              "                   random_state=None, solver='lbfgs', tol=0.0001, verbose=0,\n",
              "                   warm_start=False)"
            ]
          },
          "metadata": {
            "tags": []
          },
          "execution_count": 28
        }
      ]
    },
    {
      "cell_type": "code",
      "metadata": {
        "id": "swB3q4e0OVzK",
        "colab_type": "code",
        "colab": {
          "base_uri": "https://localhost:8080/",
          "height": 34
        },
        "outputId": "d62448fd-64ec-4a86-9f9c-d67602885908"
      },
      "source": [
        "#evaluate to get validation score\n",
        "classifier.score(X_test,y_test)"
      ],
      "execution_count": 29,
      "outputs": [
        {
          "output_type": "execute_result",
          "data": {
            "text/plain": [
              "0.8076165462902167"
            ]
          },
          "metadata": {
            "tags": []
          },
          "execution_count": 29
        }
      ]
    },
    {
      "cell_type": "code",
      "metadata": {
        "id": "7RuA5KDLb8pI",
        "colab_type": "code",
        "colab": {}
      },
      "source": [
        "y_pred=classifier.predict(vectorized_test)"
      ],
      "execution_count": 30,
      "outputs": []
    },
    {
      "cell_type": "code",
      "metadata": {
        "id": "tsFBREhLcQIZ",
        "colab_type": "code",
        "colab": {}
      },
      "source": [
        "id=test_data.id"
      ],
      "execution_count": 31,
      "outputs": []
    },
    {
      "cell_type": "code",
      "metadata": {
        "id": "22tX1cTbfVJN",
        "colab_type": "code",
        "colab": {}
      },
      "source": [
        "output_df=pd.DataFrame({'id':id,\"target\":y_pred})"
      ],
      "execution_count": 32,
      "outputs": []
    },
    {
      "cell_type": "code",
      "metadata": {
        "id": "OAEsQ0_sfiw8",
        "colab_type": "code",
        "colab": {}
      },
      "source": [
        "output_df.to_csv('submission.csv',index=False)"
      ],
      "execution_count": 33,
      "outputs": []
    },
    {
      "cell_type": "code",
      "metadata": {
        "id": "NOPgVlsCMb9d",
        "colab_type": "code",
        "colab": {
          "base_uri": "https://localhost:8080/",
          "height": 101
        },
        "outputId": "80898d24-ad2d-461f-dc39-1089737e8b70"
      },
      "source": [
        "test_data.iloc[0]"
      ],
      "execution_count": 34,
      "outputs": [
        {
          "output_type": "execute_result",
          "data": {
            "text/plain": [
              "id                                           0\n",
              "keyword                                    NaN\n",
              "location                                   NaN\n",
              "text        Just happened a terrible car crash\n",
              "Name: 0, dtype: object"
            ]
          },
          "metadata": {
            "tags": []
          },
          "execution_count": 34
        }
      ]
    },
    {
      "cell_type": "code",
      "metadata": {
        "id": "dSvMzsFzMcHm",
        "colab_type": "code",
        "colab": {}
      },
      "source": [
        ""
      ],
      "execution_count": 35,
      "outputs": []
    },
    {
      "cell_type": "code",
      "metadata": {
        "id": "dWO-qPhEovsu",
        "colab_type": "code",
        "colab": {}
      },
      "source": [
        "#testing function\n",
        "def predict_result(text):\n",
        "    text=text.lower()\n",
        "    text=re.sub('#','',text)\n",
        "    text=re.sub('[^a-zA-Z ]','',text)\n",
        "    words=nltk.word_tokenize(text)\n",
        "    words=[lemmatizer.lemmatize(word) for word in words if word not in set(stopwords.words('english'))]\n",
        "    sentence=' '.join(words)\n",
        "    temp=[sentence]\n",
        "    temp1=tfidf.transform(temp)\n",
        "    result=classifier.predict(temp1)\n",
        "    return result[0]"
      ],
      "execution_count": 39,
      "outputs": []
    },
    {
      "cell_type": "code",
      "metadata": {
        "id": "nksC-kQ9ovuF",
        "colab_type": "code",
        "colab": {
          "base_uri": "https://localhost:8080/",
          "height": 34
        },
        "outputId": "981d2d0c-b29b-4710-b888-e9945f2dc818"
      },
      "source": [
        "predict_result(\"Just happened a terrible car crash\")"
      ],
      "execution_count": 40,
      "outputs": [
        {
          "output_type": "execute_result",
          "data": {
            "text/plain": [
              "1"
            ]
          },
          "metadata": {
            "tags": []
          },
          "execution_count": 40
        }
      ]
    },
    {
      "cell_type": "code",
      "metadata": {
        "id": "uaOmwvQIhgqM",
        "colab_type": "code",
        "colab": {}
      },
      "source": [
        "import pickle"
      ],
      "execution_count": 41,
      "outputs": []
    },
    {
      "cell_type": "code",
      "metadata": {
        "id": "kmGAZFwSeM1E",
        "colab_type": "code",
        "colab": {}
      },
      "source": [
        "#save classifier to load in our flask server\n",
        "pickle.dump(classifier,open('disClasdifier.pkl','wb'))"
      ],
      "execution_count": 42,
      "outputs": []
    },
    {
      "cell_type": "code",
      "metadata": {
        "id": "t3viZF8IfDId",
        "colab_type": "code",
        "colab": {}
      },
      "source": [
        "#save tfidf object to load in our flask server\n",
        "pickle.dump(tfidf,open('tfidf.pkl','wb'))"
      ],
      "execution_count": 43,
      "outputs": []
    },
    {
      "cell_type": "code",
      "metadata": {
        "id": "rpkLbRj0fNPB",
        "colab_type": "code",
        "colab": {}
      },
      "source": [
        ""
      ],
      "execution_count": null,
      "outputs": []
    },
    {
      "cell_type": "code",
      "metadata": {
        "id": "KwitwrKYovvZ",
        "colab_type": "code",
        "colab": {}
      },
      "source": [
        ""
      ],
      "execution_count": null,
      "outputs": []
    },
    {
      "cell_type": "code",
      "metadata": {
        "id": "8P-_6jtWhuMf",
        "colab_type": "code",
        "colab": {}
      },
      "source": [
        ""
      ],
      "execution_count": null,
      "outputs": []
    }
  ]
}