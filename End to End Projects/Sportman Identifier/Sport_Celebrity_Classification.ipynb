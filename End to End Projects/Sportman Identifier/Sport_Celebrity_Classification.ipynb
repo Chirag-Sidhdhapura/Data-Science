{
  "nbformat": 4,
  "nbformat_minor": 0,
  "metadata": {
    "colab": {
      "name": "Sport Celebrity Classification.ipynb",
      "provenance": []
    },
    "kernelspec": {
      "name": "python3",
      "display_name": "Python 3"
    },
    "accelerator": "GPU"
  },
  "cells": [
    {
      "cell_type": "markdown",
      "metadata": {
        "id": "oUPlBxMeEmdx",
        "colab_type": "text"
      },
      "source": [
        "*In this Notebook We will Implement Sport Celebrity Classification project.*\n",
        "\n",
        "We will perform various steps to implement this projects which are as follows:\n",
        "\n",
        "# **1. Problem Definition**\n",
        "-here we will build a classification model which will take a image from given category and try to predict which sportman is there in the given image.\n",
        "\n",
        "we will built our model for following 4 categories:\n",
        "\n",
        "1. Cristiano Ronaldo\n",
        "2. Michael Phelps\n",
        "3. Roger Federer\n",
        "4. Virat Kohli\n",
        "\n",
        "we will use concept of Transfer Learning to get better prediction accuracy.\n",
        "\n",
        "I will Try to give some basic explaination in the each cell by commenting the objective of perticular cell we execute.\n",
        "\n",
        "so let's get into it now..!!\n",
        "\n",
        "\n",
        "\n"
      ]
    },
    {
      "cell_type": "markdown",
      "metadata": {
        "id": "4bPQuY5oG31T",
        "colab_type": "text"
      },
      "source": [
        "*For building any Data Science model we first need enough,preprocessed data to feed into our model for training.*\n",
        "\n",
        "*Our model will learn some patters from those training data and once the training phase gets complete we can use that model to do predictions on some unknown data.*\n",
        "\n",
        "*so to train our model we need some good quality data which we will feed into our model.*\n",
        "\n",
        "here comes the another step of our Data Science Project life cycle.\n",
        "\n",
        "# **2. Data Collection or Data Gathering**\n",
        "\n",
        "- for this perticular project i collected data by web scraping from couple of websites. I used Google crome extension *Fatkun batch Download Image*."
      ]
    },
    {
      "cell_type": "markdown",
      "metadata": {
        "id": "TOCiSgROIuWb",
        "colab_type": "text"
      },
      "source": [
        "3rd and One of the Most important step in any data science project is ....\n",
        "\n",
        "# **3. Data Cleaning**\n",
        "-The data we collected from any website or from any real time entities will always tends to be ambiguous and dirty.\n",
        "\n",
        "-we need to clean those data to make it useful for our model.\n",
        "\n",
        "-there are tons of data cleaning techniques out there to clean our different types of data like text data,table data,video frames,image data(which is in our case here).\n",
        "\n",
        "-since we are building very basic and not to complex image classification model here, i didn't used any of the computationally complex data cleaning technique here.\n",
        "\n",
        "-I manually did some basic cleaning on our data like,\n",
        "\n",
        "    -removed some undesirable backgrounds\n",
        "    -removed some noisy/ambiguous images from gathered data\n",
        "    -cropped desired parts of data\n",
        "    -cropped out someone else from group photo etc.\n",
        "\n",
        "\n",
        "so,enough of talking now let's write out first line of code for our model ."
      ]
    },
    {
      "cell_type": "code",
      "metadata": {
        "id": "e9kJeA7rkFpT",
        "colab_type": "code",
        "colab": {}
      },
      "source": [
        "#Import necessary libraries \n",
        "import pandas as pd \n",
        "import numpy as np\n"
      ],
      "execution_count": 2,
      "outputs": []
    },
    {
      "cell_type": "code",
      "metadata": {
        "id": "ZmdxQA97K1-A",
        "colab_type": "code",
        "colab": {}
      },
      "source": [
        "train_data_path=\"/content/drive/My Drive/Sport Celebrity Classification Dataset/train\"\n",
        "test_data_path=\"/content/drive/My Drive/Sport Celebrity Classification Dataset/test\""
      ],
      "execution_count": 122,
      "outputs": []
    },
    {
      "cell_type": "code",
      "metadata": {
        "id": "nsOr67l8LAdK",
        "colab_type": "code",
        "colab": {}
      },
      "source": [
        "from keras.preprocessing.image import ImageDataGenerator"
      ],
      "execution_count": 4,
      "outputs": []
    },
    {
      "cell_type": "code",
      "metadata": {
        "id": "4F3fpiCQLues",
        "colab_type": "code",
        "colab": {}
      },
      "source": [
        "#we will perfrom some Data Augmentation on our small dataset to get some more training data\n",
        "train_data_gen=ImageDataGenerator(rescale=1./255,\n",
        "                                 zoom_range=0.2,\n",
        "                                 shear_range=0.2,\n",
        "                                 horizontal_flip=True)\n",
        "test_data_gen=ImageDataGenerator(rescale=1./255)"
      ],
      "execution_count": 155,
      "outputs": []
    },
    {
      "cell_type": "code",
      "metadata": {
        "id": "DQDiHRLeMG8F",
        "colab_type": "code",
        "colab": {
          "base_uri": "https://localhost:8080/",
          "height": 50
        },
        "outputId": "fb9c9e0f-7fac-41ae-80f3-aef1b3f929c3"
      },
      "source": [
        "#get out dataset\n",
        "training_set=train_data_gen.flow_from_directory(train_data_path,\n",
        "                                               target_size=(224,224),\n",
        "                                               batch_size=32,\n",
        "                                               class_mode='categorical')\n",
        "test_set=test_data_gen.flow_from_directory(test_data_path,\n",
        "                                          target_size=(224,224),\n",
        "                                          batch_size=32,\n",
        "                                          class_mode='categorical')"
      ],
      "execution_count": 156,
      "outputs": [
        {
          "output_type": "stream",
          "text": [
            "Found 320 images belonging to 4 classes.\n",
            "Found 48 images belonging to 4 classes.\n"
          ],
          "name": "stdout"
        }
      ]
    },
    {
      "cell_type": "markdown",
      "metadata": {
        "id": "lXrux2i7v6DB",
        "colab_type": "text"
      },
      "source": [
        "next step now,\n",
        "#**4**. Model Building and Optimization"
      ]
    },
    {
      "cell_type": "code",
      "metadata": {
        "id": "J26gUARmMRoR",
        "colab_type": "code",
        "colab": {}
      },
      "source": [
        "#we will use pretrained convolutional neural network model here and make some changes to it as per requirement\n",
        "\n",
        "from keras.applications.vgg16 import VGG16\n",
        "from keras.models import Sequential\n",
        "from keras.layers import Dense,Flatten,Convolution2D"
      ],
      "execution_count": 125,
      "outputs": []
    },
    {
      "cell_type": "code",
      "metadata": {
        "id": "6YSmfOaSMY_A",
        "colab_type": "code",
        "colab": {}
      },
      "source": [
        "image_size=[224,224]"
      ],
      "execution_count": 126,
      "outputs": []
    },
    {
      "cell_type": "code",
      "metadata": {
        "id": "xoiep4AQCk7U",
        "colab_type": "code",
        "colab": {}
      },
      "source": [
        "#Initialize VGG16 model\n",
        "vgg=VGG16(input_shape=image_size+[3],weights='imagenet',include_top=False)\n",
        "#Use default weights and make layers trainable=False\n",
        "for layer in vgg.layers:\n",
        "    layer.trainable=False"
      ],
      "execution_count": 157,
      "outputs": []
    },
    {
      "cell_type": "code",
      "metadata": {
        "id": "GDKrBBSyM_ux",
        "colab_type": "code",
        "colab": {}
      },
      "source": [
        "#Flattet the output of vgg \n",
        "x=Flatten()(vgg.output)"
      ],
      "execution_count": 158,
      "outputs": []
    },
    {
      "cell_type": "code",
      "metadata": {
        "id": "XFCVod8XCk-U",
        "colab_type": "code",
        "colab": {}
      },
      "source": [
        "#make a dense layer with 4 neurons since we have 4 categories\n",
        "prediction=Dense(4,activation='softmax')(x)"
      ],
      "execution_count": 159,
      "outputs": []
    },
    {
      "cell_type": "code",
      "metadata": {
        "id": "1_UrtONoClBP",
        "colab_type": "code",
        "colab": {
          "base_uri": "https://localhost:8080/",
          "height": 857
        },
        "outputId": "1aa2853d-c5b7-4ef0-f6a5-fa2f2abdc19a"
      },
      "source": [
        "#build a model with our desired output layer\n",
        "from keras.models import Model\n",
        "model=Model(inputs=vgg.input , outputs=prediction)\n",
        "#checkout the summary of model (no of weight,parameters etc.)\n",
        "model.summary()"
      ],
      "execution_count": 160,
      "outputs": [
        {
          "output_type": "stream",
          "text": [
            "Model: \"functional_17\"\n",
            "_________________________________________________________________\n",
            "Layer (type)                 Output Shape              Param #   \n",
            "=================================================================\n",
            "input_8 (InputLayer)         [(None, 224, 224, 3)]     0         \n",
            "_________________________________________________________________\n",
            "block1_conv1 (Conv2D)        (None, 224, 224, 64)      1792      \n",
            "_________________________________________________________________\n",
            "block1_conv2 (Conv2D)        (None, 224, 224, 64)      36928     \n",
            "_________________________________________________________________\n",
            "block1_pool (MaxPooling2D)   (None, 112, 112, 64)      0         \n",
            "_________________________________________________________________\n",
            "block2_conv1 (Conv2D)        (None, 112, 112, 128)     73856     \n",
            "_________________________________________________________________\n",
            "block2_conv2 (Conv2D)        (None, 112, 112, 128)     147584    \n",
            "_________________________________________________________________\n",
            "block2_pool (MaxPooling2D)   (None, 56, 56, 128)       0         \n",
            "_________________________________________________________________\n",
            "block3_conv1 (Conv2D)        (None, 56, 56, 256)       295168    \n",
            "_________________________________________________________________\n",
            "block3_conv2 (Conv2D)        (None, 56, 56, 256)       590080    \n",
            "_________________________________________________________________\n",
            "block3_conv3 (Conv2D)        (None, 56, 56, 256)       590080    \n",
            "_________________________________________________________________\n",
            "block3_pool (MaxPooling2D)   (None, 28, 28, 256)       0         \n",
            "_________________________________________________________________\n",
            "block4_conv1 (Conv2D)        (None, 28, 28, 512)       1180160   \n",
            "_________________________________________________________________\n",
            "block4_conv2 (Conv2D)        (None, 28, 28, 512)       2359808   \n",
            "_________________________________________________________________\n",
            "block4_conv3 (Conv2D)        (None, 28, 28, 512)       2359808   \n",
            "_________________________________________________________________\n",
            "block4_pool (MaxPooling2D)   (None, 14, 14, 512)       0         \n",
            "_________________________________________________________________\n",
            "block5_conv1 (Conv2D)        (None, 14, 14, 512)       2359808   \n",
            "_________________________________________________________________\n",
            "block5_conv2 (Conv2D)        (None, 14, 14, 512)       2359808   \n",
            "_________________________________________________________________\n",
            "block5_conv3 (Conv2D)        (None, 14, 14, 512)       2359808   \n",
            "_________________________________________________________________\n",
            "block5_pool (MaxPooling2D)   (None, 7, 7, 512)         0         \n",
            "_________________________________________________________________\n",
            "flatten_8 (Flatten)          (None, 25088)             0         \n",
            "_________________________________________________________________\n",
            "dense_7 (Dense)              (None, 4)                 100356    \n",
            "=================================================================\n",
            "Total params: 14,815,044\n",
            "Trainable params: 100,356\n",
            "Non-trainable params: 14,714,688\n",
            "_________________________________________________________________\n"
          ],
          "name": "stdout"
        }
      ]
    },
    {
      "cell_type": "code",
      "metadata": {
        "id": "627pbJm7NP_B",
        "colab_type": "code",
        "colab": {}
      },
      "source": [
        "#Compile the Model\n",
        "model.compile(optimizer='adam',loss='categorical_crossentropy',metrics=['accuracy'])"
      ],
      "execution_count": 161,
      "outputs": []
    },
    {
      "cell_type": "code",
      "metadata": {
        "id": "qphf3LRSPqIb",
        "colab_type": "code",
        "colab": {}
      },
      "source": [
        "from keras.callbacks import EarlyStopping"
      ],
      "execution_count": 34,
      "outputs": []
    },
    {
      "cell_type": "code",
      "metadata": {
        "id": "kBt-kb-aQNyf",
        "colab_type": "code",
        "colab": {}
      },
      "source": [
        "es=EarlyStopping(monitor='val_loss',patience=5,verbose=1)"
      ],
      "execution_count": 35,
      "outputs": []
    },
    {
      "cell_type": "code",
      "metadata": {
        "id": "1Gc_gWcrTP3c",
        "colab_type": "code",
        "colab": {
          "base_uri": "https://localhost:8080/",
          "height": 34
        },
        "outputId": "d204e7e2-950d-4723-bed0-1bfc89091102"
      },
      "source": [
        "len(training_set)"
      ],
      "execution_count": 135,
      "outputs": [
        {
          "output_type": "execute_result",
          "data": {
            "text/plain": [
              "10"
            ]
          },
          "metadata": {
            "tags": []
          },
          "execution_count": 135
        }
      ]
    },
    {
      "cell_type": "code",
      "metadata": {
        "id": "n0r5Jix1drqr",
        "colab_type": "code",
        "colab": {
          "base_uri": "https://localhost:8080/",
          "height": 34
        },
        "outputId": "b2cc0237-0807-4c41-a0e8-70a738d07511"
      },
      "source": [
        "len(test_set)"
      ],
      "execution_count": 188,
      "outputs": [
        {
          "output_type": "execute_result",
          "data": {
            "text/plain": [
              "2"
            ]
          },
          "metadata": {
            "tags": []
          },
          "execution_count": 188
        }
      ]
    },
    {
      "cell_type": "code",
      "metadata": {
        "id": "sMvoGB1tNYYL",
        "colab_type": "code",
        "colab": {}
      },
      "source": [
        "#start training our model\n",
        "hist=model.fit_generator(training_set,\n",
        "                    validation_data=test_set,\n",
        "                    epochs=25,\n",
        "                    steps_per_epoch=len(training_set),\n",
        "                    validation_steps=len(test_set))"
      ],
      "execution_count": null,
      "outputs": []
    },
    {
      "cell_type": "code",
      "metadata": {
        "id": "k1WVF02_NQB9",
        "colab_type": "code",
        "colab": {}
      },
      "source": [
        "#Visualize some plots for better understanding of accuracy and loss\n",
        "import matplotlib.pyplot as plt"
      ],
      "execution_count": 39,
      "outputs": []
    },
    {
      "cell_type": "code",
      "metadata": {
        "id": "nRSxgYxwVxyE",
        "colab_type": "code",
        "colab": {
          "base_uri": "https://localhost:8080/",
          "height": 282
        },
        "outputId": "230d4e8e-1bb3-4277-980e-9fd639f2125a"
      },
      "source": [
        "plt.plot(hist.history['loss'],hist.history['val_loss'])"
      ],
      "execution_count": 138,
      "outputs": [
        {
          "output_type": "execute_result",
          "data": {
            "text/plain": [
              "[<matplotlib.lines.Line2D at 0x7f361b599668>]"
            ]
          },
          "metadata": {
            "tags": []
          },
          "execution_count": 138
        },
        {
          "output_type": "display_data",
          "data": {
            "image/png": "[encoded data removed]",
            "text/plain": [
              "<Figure size 432x288 with 1 Axes>"
            ]
          },
          "metadata": {
            "tags": [],
            "needs_background": "light"
          }
        }
      ]
    },
    {
      "cell_type": "code",
      "metadata": {
        "id": "LPl1jiwfNQFi",
        "colab_type": "code",
        "colab": {
          "base_uri": "https://localhost:8080/",
          "height": 282
        },
        "outputId": "1d87507a-fd9b-453e-c80b-1938b10b1330"
      },
      "source": [
        "plt.plot(hist.history['accuracy'],hist.history['val_accuracy'])"
      ],
      "execution_count": 139,
      "outputs": [
        {
          "output_type": "execute_result",
          "data": {
            "text/plain": [
              "[<matplotlib.lines.Line2D at 0x7f361b5728d0>]"
            ]
          },
          "metadata": {
            "tags": []
          },
          "execution_count": 139
        },
        {
          "output_type": "display_data",
          "data": {
            "image/png": "[encoded data removed]",
            "text/plain": [
              "<Figure size 432x288 with 1 Axes>"
            ]
          },
          "metadata": {
            "tags": [],
            "needs_background": "light"
          }
        }
      ]
    },
    {
      "cell_type": "code",
      "metadata": {
        "id": "u2GgGozTNQHG",
        "colab_type": "code",
        "colab": {}
      },
      "source": [
        "from keras.preprocessing.image import load_img"
      ],
      "execution_count": 57,
      "outputs": []
    },
    {
      "cell_type": "code",
      "metadata": {
        "id": "1IKS31H_Ck9A",
        "colab_type": "code",
        "colab": {}
      },
      "source": [
        "#predict independent images to get clear understanding\n",
        "path=\"/content/drive/My Drive/Sport Celebrity Classification Dataset/test/Virat Kohli/vk (91).jpg\"\n",
        "\n",
        "a=load_img(path)\n",
        "b=a.resize((224,224))\n",
        "c=np.array(b)\n",
        "d=c/255.0\n",
        "e=d.reshape(1,224,224,3)\n",
        "plt.matshow(d)\n",
        "prediction=np.argmax(model.predict(e))\n",
        "prediction"
      ],
      "execution_count": null,
      "outputs": []
    },
    {
      "cell_type": "code",
      "metadata": {
        "id": "ZTzUVL3kk-Sn",
        "colab_type": "code",
        "colab": {}
      },
      "source": [
        "import os \n",
        "import glob \n",
        "\n",
        "img_dir = \"/content/drive/My Drive/Sport Celebrity Classification Dataset/test/Virat Kohli/\" \n",
        "data_path = os.path.join(img_dir,'*g') \n",
        "files = glob.glob(data_path) \n",
        "for f1 in files:\n",
        "    a=load_img(f1)\n",
        "    b=a.resize((224,224))\n",
        "    c=np.array(b)\n",
        "    d=c/255.0\n",
        "    e=d.reshape(1,224,224,3)\n",
        "    #plt.matshow(d)\n",
        "    prediction=np.argmax(first_model.predict(e))\n",
        "    print(prediction)"
      ],
      "execution_count": null,
      "outputs": []
    },
    {
      "cell_type": "code",
      "metadata": {
        "id": "oivNzdFLiMKt",
        "colab_type": "code",
        "colab": {}
      },
      "source": [
        "from keras.models import load_model\n",
        "first_model=load_model('sportcelebrityclassification.h5')"
      ],
      "execution_count": 183,
      "outputs": []
    },
    {
      "cell_type": "code",
      "metadata": {
        "id": "2ceCkz4qs5OG",
        "colab_type": "code",
        "colab": {}
      },
      "source": [
        ""
      ],
      "execution_count": null,
      "outputs": []
    },
    {
      "cell_type": "code",
      "metadata": {
        "id": "QrIzVKkhr17s",
        "colab_type": "code",
        "colab": {}
      },
      "source": [
        ""
      ],
      "execution_count": null,
      "outputs": []
    },
    {
      "cell_type": "code",
      "metadata": {
        "id": "-R5ozbWuiMP2",
        "colab_type": "code",
        "colab": {}
      },
      "source": [
        ""
      ],
      "execution_count": null,
      "outputs": []
    }
  ]
}